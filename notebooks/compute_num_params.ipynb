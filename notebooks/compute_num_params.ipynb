{
 "cells": [
  {
   "cell_type": "code",
   "execution_count": 1,
   "metadata": {},
   "outputs": [],
   "source": [
    "import os\n",
    "os.chdir(\"..\")"
   ]
  },
  {
   "cell_type": "code",
   "execution_count": 2,
   "metadata": {},
   "outputs": [
    {
     "name": "stderr",
     "output_type": "stream",
     "text": [
      "/home/raffaele/art/contrastive-artwork-classification/.venv/lib/python3.12/site-packages/tqdm/auto.py:21: TqdmWarning: IProgress not found. Please update jupyter and ipywidgets. See https://ipywidgets.readthedocs.io/en/stable/user_install.html\n",
      "  from .autonotebook import tqdm as notebook_tqdm\n"
     ]
    }
   ],
   "source": [
    "from torch.nn import Module\n",
    "from src.experiment import (\n",
    "    CLIPGraphRun,\n",
    "    CLIPRun,\n",
    ")\n",
    "from src.utils import load_ruamel\n",
    "import torch"
   ]
  },
  {
   "cell_type": "code",
   "execution_count": 3,
   "metadata": {},
   "outputs": [],
   "source": [
    "def count_parameters(model: Module) -> int:\n",
    "    return sum(p.numel() for p in model.parameters() if p.requires_grad)"
   ]
  },
  {
   "cell_type": "markdown",
   "metadata": {},
   "source": [
    "# GraphCLIP"
   ]
  },
  {
   "cell_type": "code",
   "execution_count": 4,
   "metadata": {},
   "outputs": [],
   "source": [
    "root = \"./configs_cineca/proposed_model\""
   ]
  },
  {
   "cell_type": "code",
   "execution_count": 5,
   "metadata": {},
   "outputs": [
    {
     "name": "stdout",
     "output_type": "stream",
     "text": [
      "Loading general parameters...\n",
      "Done!\n",
      "Loading dataloaders...\n",
      "Done!\n",
      "Loading model...\n",
      "Done!\n",
      "Loading metrics...\n",
      "Done!\n",
      "Loading tokenizer...\n",
      "Done!\n",
      "Loading criterion...\n",
      "Done!\n",
      "Loading optimizer...\n",
      "Done!\n",
      "Loading scheduler...\n",
      "Done!\n",
      "Loading early stop callback...\n",
      "Done!\n",
      "Warm-up phase. ViT completely frozen\n",
      "Loading general parameters...\n",
      "Done!\n",
      "Loading dataloaders...\n",
      "Done!\n",
      "Loading model...\n",
      "Done!\n",
      "Loading metrics...\n",
      "Done!\n",
      "Loading tokenizer...\n",
      "Done!\n",
      "Loading criterion...\n",
      "Done!\n",
      "Loading optimizer...\n",
      "Done!\n",
      "Loading scheduler...\n",
      "Done!\n",
      "Loading early stop callback...\n",
      "Done!\n",
      "Warm-up phase. ViT completely frozen\n",
      "Loading general parameters...\n",
      "Done!\n",
      "Loading dataloaders...\n",
      "Done!\n",
      "Loading model...\n",
      "Done!\n",
      "Loading metrics...\n",
      "Done!\n",
      "Loading tokenizer...\n",
      "Done!\n",
      "Loading criterion...\n",
      "Done!\n",
      "Loading optimizer...\n",
      "Done!\n",
      "Loading scheduler...\n",
      "Done!\n",
      "Loading early stop callback...\n",
      "Done!\n",
      "Warm-up phase. ViT completely frozen\n",
      "Loading general parameters...\n",
      "Done!\n",
      "Loading dataloaders...\n",
      "Done!\n",
      "Loading model...\n",
      "Done!\n",
      "Loading metrics...\n",
      "Done!\n",
      "Loading tokenizer...\n",
      "Done!\n",
      "Loading criterion...\n",
      "Done!\n",
      "Loading optimizer...\n",
      "Done!\n",
      "Loading scheduler...\n",
      "Done!\n",
      "Loading early stop callback...\n",
      "Done!\n",
      "Warm-up phase. ViT completely frozen\n",
      "Loading general parameters...\n",
      "Done!\n",
      "Loading dataloaders...\n",
      "Done!\n",
      "Loading model...\n",
      "Done!\n",
      "Loading metrics...\n",
      "Done!\n",
      "Loading tokenizer...\n",
      "Done!\n",
      "Loading criterion...\n",
      "Done!\n",
      "Loading optimizer...\n",
      "Done!\n",
      "Loading scheduler...\n",
      "Done!\n",
      "Loading early stop callback...\n",
      "Done!\n",
      "Warm-up phase. ViT completely frozen\n",
      "Loading general parameters...\n",
      "Done!\n",
      "Loading dataloaders...\n",
      "Done!\n",
      "Loading model...\n",
      "Done!\n",
      "Loading metrics...\n",
      "Done!\n",
      "Loading tokenizer...\n",
      "Done!\n",
      "Loading criterion...\n",
      "Done!\n",
      "Loading optimizer...\n",
      "Done!\n",
      "Loading scheduler...\n",
      "Done!\n",
      "Loading early stop callback...\n",
      "Done!\n",
      "Warm-up phase. ViT completely frozen\n",
      "Loading general parameters...\n",
      "Done!\n",
      "Loading dataloaders...\n",
      "Done!\n",
      "Loading model...\n",
      "Done!\n",
      "Loading metrics...\n",
      "Done!\n",
      "Loading tokenizer...\n",
      "Done!\n",
      "Loading criterion...\n",
      "Done!\n",
      "Loading optimizer...\n",
      "Done!\n",
      "Loading scheduler...\n",
      "Done!\n",
      "Loading early stop callback...\n",
      "Done!\n",
      "Warm-up phase. ViT completely frozen\n",
      "Loading general parameters...\n",
      "Done!\n",
      "Loading dataloaders...\n",
      "Done!\n",
      "Loading model...\n",
      "Done!\n",
      "Loading metrics...\n",
      "Done!\n",
      "Loading tokenizer...\n",
      "Done!\n",
      "Loading criterion...\n",
      "Done!\n",
      "Loading optimizer...\n",
      "Done!\n",
      "Loading scheduler...\n",
      "Done!\n",
      "Loading early stop callback...\n",
      "Done!\n",
      "Warm-up phase. ViT completely frozen\n"
     ]
    }
   ],
   "source": [
    "params_data = dict()\n",
    "for task in (\"style\", \"genre\"):\n",
    "    for conf in filter(lambda x: x.startswith(\"normal\"), os.listdir(f\"{root}/{task}/\")):\n",
    "        run_cls = CLIPGraphRun\n",
    "        params = load_ruamel(f\"{root}/{task}/{conf}\")\n",
    "        params[\"clean_out_dir\"] = False\n",
    "        run = run_cls(params)\n",
    "        run.set_model_parameters_for_warmup(current_epoch=0)\n",
    "        params_data[f\"{task}-{conf}\"] = count_parameters(run.model)"
   ]
  },
  {
   "cell_type": "code",
   "execution_count": 6,
   "metadata": {},
   "outputs": [
    {
     "data": {
      "text/plain": [
       "{'style-normal_clip_graph_sage3.yaml': '6.140e+07',\n",
       " 'style-normal_clip_graph_gat2.yaml': '1.641e+08',\n",
       " 'style-normal_clip_graph_sage2.yaml': '6.142e+07',\n",
       " 'style-normal_clip_graph_gat3.yaml': '2.461e+08',\n",
       " 'genre-normal_clip_graph_sage3.yaml': '6.140e+07',\n",
       " 'genre-normal_clip_graph_gat2.yaml': '1.641e+08',\n",
       " 'genre-normal_clip_graph_sage2.yaml': '6.142e+07',\n",
       " 'genre-normal_clip_graph_gat3.yaml': '2.461e+08'}"
      ]
     },
     "execution_count": 6,
     "metadata": {},
     "output_type": "execute_result"
    }
   ],
   "source": [
    "{k: f\"{v:.3e}\" for k, v in params_data.items()}"
   ]
  },
  {
   "cell_type": "markdown",
   "metadata": {},
   "source": [
    "# AIxIA"
   ]
  },
  {
   "cell_type": "code",
   "execution_count": 7,
   "metadata": {},
   "outputs": [
    {
     "name": "stdout",
     "output_type": "stream",
     "text": [
      "style/normal_aixia.yaml\n",
      "Loading general parameters...\n",
      "Done!\n",
      "Loading dataloaders...\n",
      "Done!\n",
      "Loading model...\n"
     ]
    },
    {
     "name": "stdout",
     "output_type": "stream",
     "text": [
      "loading state dict for vit\n"
     ]
    },
    {
     "name": "stderr",
     "output_type": "stream",
     "text": [
      "/home/raffaele/art/contrastive-artwork-classification/.venv/lib/python3.12/site-packages/sklearn/base.py:376: InconsistentVersionWarning: Trying to unpickle estimator PCA from version 1.4.2 when using version 1.4.1.post1. This might lead to breaking code or invalid results. Use at your own risk. For more info please refer to:\n",
      "https://scikit-learn.org/stable/model_persistence.html#security-maintainability-limitations\n",
      "  warnings.warn(\n"
     ]
    },
    {
     "name": "stdout",
     "output_type": "stream",
     "text": [
      "Done!\n",
      "Loading metrics...\n",
      "Done!\n",
      "Loading tokenizer...\n",
      "Done!\n",
      "Loading criterion...\n",
      "Done!\n",
      "Loading optimizer...\n",
      "Done!\n",
      "Loading scheduler...\n",
      "Done!\n",
      "Loading early stop callback...\n",
      "Done!\n",
      "genre/normal_aixia.yaml\n",
      "Loading general parameters...\n",
      "Done!\n",
      "Loading dataloaders...\n",
      "Done!\n",
      "Loading model...\n",
      "loading state dict for vit\n",
      "Done!\n",
      "Loading metrics...\n",
      "Done!\n",
      "Loading tokenizer...\n",
      "Done!\n",
      "Loading criterion...\n",
      "Done!\n",
      "Loading optimizer...\n",
      "Done!\n",
      "Loading scheduler...\n",
      "Done!\n",
      "Loading early stop callback...\n",
      "Done!\n",
      "multitask/normal_aixia.yaml\n",
      "Loading general parameters...\n"
     ]
    },
    {
     "name": "stderr",
     "output_type": "stream",
     "text": [
      "/home/raffaele/art/contrastive-artwork-classification/.venv/lib/python3.12/site-packages/sklearn/base.py:376: InconsistentVersionWarning: Trying to unpickle estimator PCA from version 1.4.2 when using version 1.4.1.post1. This might lead to breaking code or invalid results. Use at your own risk. For more info please refer to:\n",
      "https://scikit-learn.org/stable/model_persistence.html#security-maintainability-limitations\n",
      "  warnings.warn(\n"
     ]
    },
    {
     "name": "stdout",
     "output_type": "stream",
     "text": [
      "Done!\n",
      "Loading dataloaders...\n",
      "Done!\n",
      "Loading model...\n",
      "loading state dict for vit\n"
     ]
    },
    {
     "name": "stderr",
     "output_type": "stream",
     "text": [
      "/home/raffaele/art/contrastive-artwork-classification/.venv/lib/python3.12/site-packages/sklearn/base.py:376: InconsistentVersionWarning: Trying to unpickle estimator PCA from version 1.4.2 when using version 1.4.1.post1. This might lead to breaking code or invalid results. Use at your own risk. For more info please refer to:\n",
      "https://scikit-learn.org/stable/model_persistence.html#security-maintainability-limitations\n",
      "  warnings.warn(\n"
     ]
    },
    {
     "name": "stdout",
     "output_type": "stream",
     "text": [
      "Done!\n",
      "Loading metrics...\n",
      "Done!\n",
      "Loading tokenizer...\n",
      "Done!\n",
      "Loading criterion...\n",
      "Done!\n",
      "Loading optimizer...\n",
      "Done!\n",
      "Loading scheduler...\n",
      "Done!\n",
      "Loading early stop callback...\n",
      "Done!\n"
     ]
    }
   ],
   "source": [
    "from src.experiment import AIxIAMultiTaskRun, AIxIARun\n",
    "\n",
    "root = \"./configs_cineca/baselines\"\n",
    "params_data = dict()\n",
    "for task in (\"style\", \"genre\", \"multitask\"):\n",
    "    for conf in filter(\n",
    "        lambda x: x.startswith(\"normal_aixia\"), os.listdir(f\"{root}/{task}/\")\n",
    "    ):\n",
    "        print(f\"{task}/{conf}\")\n",
    "        run_cls = AIxIAMultiTaskRun if task == \"multitask\" else AIxIARun\n",
    "        params = load_ruamel(f\"{root}/{task}/{conf}\")\n",
    "        params[\"clean_out_dir\"] = False\n",
    "        run = run_cls(params)\n",
    "        # lazy initialization\n",
    "        run.model(\n",
    "            torch.randn(1, 3, 224, 224).to(\"cuda\"),\n",
    "            run.graph.x_dict,\n",
    "            run.graph.edge_index_dict,\n",
    "        )\n",
    "        for p in run.model.vit.parameters():\n",
    "            p.requires_grad = False\n",
    "        for p in run.model.vit.head.parameters():\n",
    "            p.requires_grad = True\n",
    "        params_data[f\"{task}-{conf}\"] = count_parameters(run.model)"
   ]
  },
  {
   "cell_type": "code",
   "execution_count": 8,
   "metadata": {},
   "outputs": [
    {
     "data": {
      "text/plain": [
       "{'style-normal_aixia.yaml': '1.227e+07',\n",
       " 'genre-normal_aixia.yaml': '9.070e+06',\n",
       " 'multitask-normal_aixia.yaml': '2.878e+07'}"
      ]
     },
     "execution_count": 8,
     "metadata": {},
     "output_type": "execute_result"
    }
   ],
   "source": [
    "{k: f\"{v:.3e}\" for k, v in params_data.items()}"
   ]
  },
  {
   "cell_type": "markdown",
   "metadata": {},
   "source": [
    "# PREVIOUS KBS"
   ]
  },
  {
   "cell_type": "code",
   "execution_count": 9,
   "metadata": {},
   "outputs": [],
   "source": [
    "from src.models.models_kg import (\n",
    "    ContextNetSingleTask,\n",
    "    ContextNetlMultiTask,\n",
    "    NewMultiModalMultiTaskViT,\n",
    "    NewMultiModalSingleTaskVit,\n",
    "    LabelProjectorVit,\n",
    ")"
   ]
  },
  {
   "cell_type": "code",
   "execution_count": 10,
   "metadata": {},
   "outputs": [],
   "source": [
    "emb_size = 128"
   ]
  },
  {
   "cell_type": "code",
   "execution_count": 11,
   "metadata": {},
   "outputs": [],
   "source": [
    "def count_previous_kbs(emb_size, num_class):\n",
    "    model_cls = (\n",
    "        NewMultiModalMultiTaskViT\n",
    "        if isinstance(num_class, dict)\n",
    "        else NewMultiModalSingleTaskVit\n",
    "    )\n",
    "    model = model_cls(emb_size=emb_size, num_class=num_class, dropout=0.0)\n",
    "    aixia_run = AIxIARun(load_ruamel('./configs_cineca/baselines/genre/normal_aixia.yaml'))\n",
    "    gnn = aixia_run.model.gnn\n",
    "    with torch.no_grad():\n",
    "        gnn(aixia_run.graph.x_dict, aixia_run.graph.edge_index_dict)\n",
    "    projector = LabelProjectorVit(emb_size=emb_size)\n",
    "    return count_parameters(model) + count_parameters(gnn) + count_parameters(projector)\n"
   ]
  },
  {
   "cell_type": "code",
   "execution_count": 12,
   "metadata": {},
   "outputs": [
    {
     "name": "stdout",
     "output_type": "stream",
     "text": [
      "Loading general parameters...\n",
      "Done!\n",
      "Loading dataloaders...\n",
      "Done!\n",
      "Loading model...\n",
      "loading state dict for vit\n",
      "Done!\n",
      "Loading metrics...\n",
      "Done!\n",
      "Loading tokenizer...\n",
      "Done!\n",
      "Loading criterion...\n",
      "Done!\n",
      "Loading optimizer...\n",
      "Done!\n",
      "Loading scheduler...\n",
      "Done!\n",
      "Loading early stop callback...\n",
      "Done!\n"
     ]
    },
    {
     "name": "stderr",
     "output_type": "stream",
     "text": [
      "/home/raffaele/art/contrastive-artwork-classification/.venv/lib/python3.12/site-packages/sklearn/base.py:376: InconsistentVersionWarning: Trying to unpickle estimator PCA from version 1.4.2 when using version 1.4.1.post1. This might lead to breaking code or invalid results. Use at your own risk. For more info please refer to:\n",
      "https://scikit-learn.org/stable/model_persistence.html#security-maintainability-limitations\n",
      "  warnings.warn(\n"
     ]
    },
    {
     "name": "stdout",
     "output_type": "stream",
     "text": [
      "Loading general parameters...\n",
      "Done!\n",
      "Loading dataloaders...\n",
      "Done!\n",
      "Loading model...\n",
      "loading state dict for vit\n",
      "Done!\n",
      "Loading metrics...\n",
      "Done!\n",
      "Loading tokenizer...\n",
      "Done!\n",
      "Loading criterion...\n",
      "Done!\n",
      "Loading optimizer...\n",
      "Done!\n",
      "Loading scheduler...\n",
      "Done!\n",
      "Loading early stop callback...\n",
      "Done!\n"
     ]
    },
    {
     "name": "stderr",
     "output_type": "stream",
     "text": [
      "/home/raffaele/art/contrastive-artwork-classification/.venv/lib/python3.12/site-packages/sklearn/base.py:376: InconsistentVersionWarning: Trying to unpickle estimator PCA from version 1.4.2 when using version 1.4.1.post1. This might lead to breaking code or invalid results. Use at your own risk. For more info please refer to:\n",
      "https://scikit-learn.org/stable/model_persistence.html#security-maintainability-limitations\n",
      "  warnings.warn(\n"
     ]
    },
    {
     "name": "stdout",
     "output_type": "stream",
     "text": [
      "Loading general parameters...\n",
      "Done!\n",
      "Loading dataloaders...\n",
      "Done!\n",
      "Loading model...\n",
      "loading state dict for vit\n",
      "Done!\n",
      "Loading metrics...\n",
      "Done!\n",
      "Loading tokenizer...\n",
      "Done!\n",
      "Loading criterion...\n",
      "Done!\n",
      "Loading optimizer...\n",
      "Done!\n",
      "Loading scheduler...\n",
      "Done!\n",
      "Loading early stop callback...\n",
      "Done!\n"
     ]
    },
    {
     "name": "stderr",
     "output_type": "stream",
     "text": [
      "/home/raffaele/art/contrastive-artwork-classification/.venv/lib/python3.12/site-packages/sklearn/base.py:376: InconsistentVersionWarning: Trying to unpickle estimator PCA from version 1.4.2 when using version 1.4.1.post1. This might lead to breaking code or invalid results. Use at your own risk. For more info please refer to:\n",
      "https://scikit-learn.org/stable/model_persistence.html#security-maintainability-limitations\n",
      "  warnings.warn(\n"
     ]
    },
    {
     "data": {
      "text/plain": [
       "{'kbs-style': '1.234e+07',\n",
       " 'kbs-genre': '1.233e+07',\n",
       " 'kbs-multitask': '1.236e+07'}"
      ]
     },
     "execution_count": 12,
     "metadata": {},
     "output_type": "execute_result"
    }
   ],
   "source": [
    "{\n",
    "    \"kbs-style\": f\"{count_previous_kbs(emb_size=128, num_class=32):.3e}\",\n",
    "    \"kbs-genre\": f\"{count_previous_kbs(emb_size=128, num_class=18):.3e}\",\n",
    "    \"kbs-multitask\": f\"{count_previous_kbs(emb_size=128, num_class=dict(style=32, genre=18)):.3e}\"\n",
    "}"
   ]
  },
  {
   "cell_type": "code",
   "execution_count": 13,
   "metadata": {},
   "outputs": [],
   "source": [
    "def count_contextnet(emb_size, num_class) -> ContextNetSingleTask | ContextNetlMultiTask:\n",
    "    model_cls = (\n",
    "        ContextNetlMultiTask if isinstance(num_class, dict) else ContextNetSingleTask\n",
    "    )\n",
    "    model = model_cls(emb_size=emb_size, num_class=num_class)\n",
    "    for p in model.resnet.parameters():\n",
    "        p.requires_grad = False\n",
    "    for p in model._modules[\"resnet\"]._modules[\"7\"].parameters():\n",
    "        p.requires_grad = True\n",
    "    return count_parameters(model) + emb_size*59339"
   ]
  },
  {
   "cell_type": "code",
   "execution_count": 14,
   "metadata": {},
   "outputs": [
    {
     "name": "stderr",
     "output_type": "stream",
     "text": [
      "/home/raffaele/art/contrastive-artwork-classification/.venv/lib/python3.12/site-packages/torchvision/models/_utils.py:208: UserWarning: The parameter 'pretrained' is deprecated since 0.13 and may be removed in the future, please use 'weights' instead.\n",
      "  warnings.warn(\n",
      "/home/raffaele/art/contrastive-artwork-classification/.venv/lib/python3.12/site-packages/torchvision/models/_utils.py:223: UserWarning: Arguments other than a weight enum or `None` for 'weights' are deprecated since 0.13 and may be removed in the future. The current behavior is equivalent to passing `weights=ResNet50_Weights.IMAGENET1K_V1`. You can also use `weights=ResNet50_Weights.DEFAULT` to get the most up-to-date weights.\n",
      "  warnings.warn(msg)\n"
     ]
    },
    {
     "data": {
      "text/plain": [
       "{'contextnet-style': '2.289e+07',\n",
       " 'contextnet-genre': '2.286e+07',\n",
       " 'contextnet-multitask': '2.292e+07'}"
      ]
     },
     "execution_count": 14,
     "metadata": {},
     "output_type": "execute_result"
    }
   ],
   "source": [
    "{\n",
    "    \"contextnet-style\": f\"{count_contextnet(emb_size=128, num_class=32):.3e}\",\n",
    "    \"contextnet-genre\": f\"{count_contextnet(emb_size=128, num_class=18):.3e}\",\n",
    "    \"contextnet-multitask\": f\"{count_contextnet(emb_size=128, num_class=dict(style=32, genre=18)):.3e}\"\n",
    "}"
   ]
  },
  {
   "cell_type": "code",
   "execution_count": null,
   "metadata": {},
   "outputs": [],
   "source": []
  }
 ],
 "metadata": {
  "kernelspec": {
   "display_name": ".venv",
   "language": "python",
   "name": "python3"
  },
  "language_info": {
   "codemirror_mode": {
    "name": "ipython",
    "version": 3
   },
   "file_extension": ".py",
   "mimetype": "text/x-python",
   "name": "python",
   "nbconvert_exporter": "python",
   "pygments_lexer": "ipython3",
   "version": "3.10.12"
  }
 },
 "nbformat": 4,
 "nbformat_minor": 2
}
