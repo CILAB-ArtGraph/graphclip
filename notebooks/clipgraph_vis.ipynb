{
 "cells": [
  {
   "cell_type": "code",
   "execution_count": null,
   "metadata": {},
   "outputs": [],
   "source": [
    "import os\n",
    "os.chdir('..')"
   ]
  },
  {
   "cell_type": "code",
   "execution_count": null,
   "metadata": {},
   "outputs": [],
   "source": [
    "from src.experiment import CLIPGraphRun\n",
    "from src.models.explainer import CLIPGraphExplainer, ArtGraphCaptumExplainer, GraphIntegratedGradients\n",
    "from src.data import DataDict\n",
    "from src.utils import load_ruamel\n",
    "from src.visualization.clip_vis import get_img_path, get_style_by_case_id\n",
    "from src.visualization.utils import SessionStateKey\n",
    "from torch_geometric.explain import ThresholdConfig\n",
    "import torch\n",
    "import pandas as pd\n",
    "import json\n",
    "from neo4j import GraphDatabase\n",
    "from torch_geometric import seed_everything\n",
    "seed_everything(42)"
   ]
  },
  {
   "cell_type": "code",
   "execution_count": null,
   "metadata": {},
   "outputs": [],
   "source": [
    "def get_prediction(run: CLIPGraphRun, case_id: int) -> torch.Tensor:\n",
    "    class_feats = run.model.encode_graph(\n",
    "        run.graph.x_dict, run.graph.edge_index_dict, normalize=True\n",
    "    )\n",
    "    img_tensor = (\n",
    "        run.test_loader.dataset[case_id].get(DataDict.IMAGE).unsqueeze(0).to(run.device)\n",
    "    )\n",
    "    img_feats = run.model.encode_image(img_tensor, normalize=True)\n",
    "    prediction = img_feats @ class_feats.T\n",
    "    return  {\n",
    "        SessionStateKey.LOGITS: prediction,\n",
    "        SessionStateKey.IMG_FEATS: img_feats,\n",
    "        SessionStateKey.GRAPH_FEATS: class_feats,\n",
    "    }"
   ]
  },
  {
   "cell_type": "code",
   "execution_count": null,
   "metadata": {},
   "outputs": [],
   "source": [
    "def get_mappings(root: str, mapping_file: str) -> dict[dict[int, str]]:\n",
    "    files = {k.split('_')[0]: pd.read_csv(f\"{root}/{k}\", names=[\"idx\", \"name\"]).to_dict()[\"name\"] for k in os.listdir(root)}\n",
    "    with open(mapping_file) as f:\n",
    "        artwork_mapping = json.load(f)\n",
    "    artwork_mapping = {int(k): v for k, v in artwork_mapping.items()}\n",
    "    files[\"artwork\"] = {artwork_mapping[k]: v for k, v in files[\"artwork\"].items() if k in artwork_mapping.keys()}\n",
    "    return files"
   ]
  },
  {
   "cell_type": "code",
   "execution_count": null,
   "metadata": {},
   "outputs": [],
   "source": [
    "parameters = load_ruamel('./configs/proposed_model/0_1/sage/normal_clip_graph_sage2.yaml')\n",
    "parameters[\"clean_out_dir\"] = False\n",
    "parameters[\"model\"][\"gnn\"][\"params\"][\"dropout\"] = 0.0\n",
    "run = CLIPGraphRun(parameters=parameters)"
   ]
  },
  {
   "cell_type": "code",
   "execution_count": null,
   "metadata": {},
   "outputs": [],
   "source": [
    "class2idx, idx2class = run.get_class_maps()"
   ]
  },
  {
   "cell_type": "code",
   "execution_count": null,
   "metadata": {},
   "outputs": [],
   "source": [
    "explainer = CLIPGraphExplainer(\n",
    "    device=run.device,\n",
    "    image_preprocess=\"clip\",\n",
    "    mappings=get_mappings(\n",
    "        root=\"./data/external/artgraph2bestemotions/mapping/\",\n",
    "        mapping_file=\"./data/processed/graph/0_1/artwork_mapping.json\",\n",
    "    ),\n",
    "    neo4j_driver=GraphDatabase.driver(uri='bolt://localhost:7688', auth=(\"neo4j\", \"neo4j\")),\n",
    "    neo4j_db=\"neo4j\"\n",
    ")"
   ]
  },
  {
   "cell_type": "markdown",
   "metadata": {},
   "source": [
    "## CHOOSE THE TEST INSTANCE"
   ]
  },
  {
   "cell_type": "code",
   "execution_count": null,
   "metadata": {},
   "outputs": [],
   "source": [
    "from ipywidgets import IntSlider\n",
    "\n",
    "test_instance = IntSlider(\n",
    "    value=0,\n",
    "    min=0,\n",
    "    max=len(run.test_loader.dataset)-1,\n",
    "    step=1,\n",
    "    description=\"Choose the test instance\",\n",
    "    orientation=\"horizontal\",\n",
    ")\n",
    "display(test_instance)"
   ]
  },
  {
   "cell_type": "code",
   "execution_count": null,
   "metadata": {},
   "outputs": [],
   "source": [
    "test_instance.value = 19"
   ]
  },
  {
   "cell_type": "code",
   "execution_count": null,
   "metadata": {},
   "outputs": [],
   "source": [
    "image_style = get_style_by_case_id(run=run, case_id=test_instance.value)\n",
    "image_style"
   ]
  },
  {
   "cell_type": "code",
   "execution_count": null,
   "metadata": {},
   "outputs": [],
   "source": [
    "img_pth = get_img_path(run=run, case_id=test_instance.value)\n",
    "img_pth"
   ]
  },
  {
   "cell_type": "code",
   "execution_count": null,
   "metadata": {},
   "outputs": [],
   "source": [
    "from PIL import Image\n",
    "img = Image.open(img_pth).convert(\"RGB\")\n",
    "img.resize((img.width*3, img.height*3))"
   ]
  },
  {
   "cell_type": "markdown",
   "metadata": {},
   "source": [
    "### EXPLAIN THE IMAGE"
   ]
  },
  {
   "cell_type": "code",
   "execution_count": null,
   "metadata": {},
   "outputs": [],
   "source": [
    "out = get_prediction(run=run, case_id=test_instance.value)\n",
    "pred_idx = out[SessionStateKey.LOGITS].argmax().cpu().item()\n",
    "pred_class = idx2class[pred_idx]\n",
    "overlayed_image = explainer.explain_image(\n",
    "            img_path=img_pth,\n",
    "            model=run.model,\n",
    "            reference_feats=out[SessionStateKey.GRAPH_FEATS],\n",
    "            target=pred_idx,\n",
    "            overlayed=True,\n",
    "        )"
   ]
  },
  {
   "cell_type": "code",
   "execution_count": null,
   "metadata": {},
   "outputs": [],
   "source": [
    "ov = Image.fromarray(overlayed_image, \"RGB\")\n",
    "ov.resize((ov.width*3, ov.height*3))"
   ]
  },
  {
   "cell_type": "code",
   "execution_count": null,
   "metadata": {},
   "outputs": [],
   "source": [
    "f\"Explaination of the image for class {pred_class}\""
   ]
  },
  {
   "cell_type": "markdown",
   "metadata": {},
   "source": [
    "### EXPLAIN THE GRAPH"
   ]
  },
  {
   "cell_type": "code",
   "execution_count": null,
   "metadata": {},
   "outputs": [],
   "source": [
    "explanation = explainer.explain_graph(\n",
    "    model=run.model,\n",
    "    graph=run.graph,\n",
    "    reference_feats=out[SessionStateKey.IMG_FEATS].detach(),\n",
    "    target_node=class2idx[pred_class],\n",
    "    algo=ArtGraphCaptumExplainer(GraphIntegratedGradients, graph=run.graph),\n",
    "    algo_kwargs=dict(\n",
    "        explanation_type=\"model\",\n",
    "        node_mask_type=\"attributes\",\n",
    "        edge_mask_type=\"object\",\n",
    "        model_config=dict(\n",
    "            mode=\"multiclass_classification\",\n",
    "            task_level=\"node\",\n",
    "            return_type=\"raw\",\n",
    "        ),\n",
    "        threshold_config=ThresholdConfig(threshold_type=\"topk\", value=100),\n",
    "    ),\n",
    ")\n",
    "explainer.plot_explanation(explanation, run.graph.metadata(), run.graph)\n"
   ]
  },
  {
   "cell_type": "code",
   "execution_count": null,
   "metadata": {},
   "outputs": [],
   "source": []
  },
  {
   "cell_type": "code",
   "execution_count": null,
   "metadata": {},
   "outputs": [],
   "source": [
    "from tqdm import tqdm\n",
    "correct_case_ids = set()\n",
    "for case_id in tqdm(range(len(run.test_loader.dataset))):\n",
    "    image_style = get_style_by_case_id(run=run, case_id=case_id)\n",
    "    out = get_prediction(run=run, case_id=case_id)\n",
    "    pred_idx = out[SessionStateKey.LOGITS].argmax().cpu().item()\n",
    "    pred_class = idx2class[pred_idx]\n",
    "    if image_style == pred_class:\n",
    "        #print(f\"{image_style} è uguale a {pred_class} per l'immagine {case_id}\")\n",
    "        correct_case_ids.add(case_id)\n",
    "\n",
    "    "
   ]
  },
  {
   "cell_type": "code",
   "execution_count": null,
   "metadata": {},
   "outputs": [],
   "source": [
    "correct_case_ids"
   ]
  },
  {
   "cell_type": "code",
   "execution_count": null,
   "metadata": {},
   "outputs": [],
   "source": [
    "import random\n",
    "random.choice(list(correct_case_ids))"
   ]
  },
  {
   "cell_type": "code",
   "execution_count": null,
   "metadata": {},
   "outputs": [],
   "source": [
    "len(correct_case_ids)"
   ]
  },
  {
   "cell_type": "code",
   "execution_count": null,
   "metadata": {},
   "outputs": [],
   "source": []
  }
 ],
 "metadata": {
  "kernelspec": {
   "display_name": ".venv",
   "language": "python",
   "name": "python3"
  },
  "language_info": {
   "codemirror_mode": {
    "name": "ipython",
    "version": 3
   },
   "file_extension": ".py",
   "mimetype": "text/x-python",
   "name": "python",
   "nbconvert_exporter": "python",
   "pygments_lexer": "ipython3",
   "version": "3.10.12"
  }
 },
 "nbformat": 4,
 "nbformat_minor": 2
}
