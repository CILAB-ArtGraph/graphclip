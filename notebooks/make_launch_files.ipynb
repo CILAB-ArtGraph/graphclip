{
 "cells": [
  {
   "cell_type": "code",
   "execution_count": 1,
   "metadata": {},
   "outputs": [],
   "source": [
    "import os"
   ]
  },
  {
   "cell_type": "code",
   "execution_count": 2,
   "metadata": {},
   "outputs": [],
   "source": [
    "os.chdir('../')"
   ]
  },
  {
   "cell_type": "code",
   "execution_count": 3,
   "metadata": {},
   "outputs": [],
   "source": [
    "fname_template = \"./launch{perc}_{layer}.sh\""
   ]
  },
  {
   "cell_type": "code",
   "execution_count": 4,
   "metadata": {},
   "outputs": [],
   "source": [
    "command_template = 'sbatch -o {out_fname} -e {out_fname} --job-name {name} ./slurms/proposed_model/launch --parameters=\"{parameter_path}\" --graph'"
   ]
  },
  {
   "cell_type": "code",
   "execution_count": 5,
   "metadata": {},
   "outputs": [],
   "source": [
    "root=\"./configs_cineca/proposed_model/\""
   ]
  },
  {
   "cell_type": "code",
   "execution_count": 6,
   "metadata": {},
   "outputs": [],
   "source": [
    "for perc in os.listdir(root):\n",
    "    commands = []\n",
    "    for layer in os.listdir(f\"{root}/{perc}\"):\n",
    "        for fname in os.listdir(f\"{root}/{perc}/{layer}\"):\n",
    "            out_fname = f\"./outs/{perc}/{fname.split('.yaml')[0]}.out\"\n",
    "            name = f\"{perc}_{layer}\"\n",
    "            parameter_path = f\"{root}{perc}/{layer}/{fname}\"\n",
    "            commands.append(command_template.format(out_fname=out_fname, name=name, parameter_path=parameter_path))\n",
    "    commands = '\\n'.join(commands)\n",
    "    file_content = f\"#!/bin/bash\\n{commands}\"\n",
    "    with open(f\"./launch_{perc}.sh\", \"w+\") as f:\n",
    "        print(file_content, end='', file=f)"
   ]
  },
  {
   "cell_type": "code",
   "execution_count": null,
   "metadata": {},
   "outputs": [],
   "source": []
  }
 ],
 "metadata": {
  "kernelspec": {
   "display_name": ".venv",
   "language": "python",
   "name": "python3"
  },
  "language_info": {
   "codemirror_mode": {
    "name": "ipython",
    "version": 3
   },
   "file_extension": ".py",
   "mimetype": "text/x-python",
   "name": "python",
   "nbconvert_exporter": "python",
   "pygments_lexer": "ipython3",
   "version": "3.10.12"
  }
 },
 "nbformat": 4,
 "nbformat_minor": 2
}
