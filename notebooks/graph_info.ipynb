{
 "cells": [
  {
   "cell_type": "code",
   "execution_count": 4,
   "metadata": {},
   "outputs": [],
   "source": [
    "import os\n",
    "os.chdir('..')"
   ]
  },
  {
   "cell_type": "code",
   "execution_count": 1,
   "metadata": {},
   "outputs": [],
   "source": [
    "import torch"
   ]
  },
  {
   "cell_type": "code",
   "execution_count": 8,
   "metadata": {},
   "outputs": [],
   "source": [
    "def get_node_num(graph) -> int:\n",
    "    return sum(map(lambda x: graph[x].x.size(0), graph.metadata()[0]))\n",
    "\n",
    "def get_edge_num(graph) -> int:\n",
    "    return sum(map(lambda x: graph[x].edge_index.size(1), graph.metadata()[1]))"
   ]
  },
  {
   "cell_type": "code",
   "execution_count": 7,
   "metadata": {},
   "outputs": [
    {
     "data": {
      "text/plain": [
       "26726"
      ]
     },
     "execution_count": 7,
     "metadata": {},
     "output_type": "execute_result"
    }
   ],
   "source": [
    "get_node_num(torch.load('./data/processed/graph/0_1/train_graph.pt'))"
   ]
  },
  {
   "cell_type": "code",
   "execution_count": 9,
   "metadata": {},
   "outputs": [
    {
     "data": {
      "text/plain": [
       "182693"
      ]
     },
     "execution_count": 9,
     "metadata": {},
     "output_type": "execute_result"
    }
   ],
   "source": [
    "get_edge_num(torch.load('./data/processed/graph/0_1/train_graph.pt'))"
   ]
  },
  {
   "cell_type": "code",
   "execution_count": 16,
   "metadata": {},
   "outputs": [
    {
     "name": "stdout",
     "output_type": "stream",
     "text": [
      "Graph perc: 0_1: num nodes: 26726, num edges: 182693\n",
      "Graph perc: 0_5: num nodes: 59339, num edges: 695943\n",
      "Graph perc: 0_7: num nodes: 75646, num edges: 951933\n",
      "Graph perc: 1_0: num nodes: 100105, num edges: 1336537\n",
      "Graph perc: 0_3: num nodes: 43032, num edges: 439535\n"
     ]
    }
   ],
   "source": [
    "root = './data/processed/graph/'\n",
    "for graph_perc in os.listdir(root):\n",
    "    if not os.path.isdir(f\"./data/processed/graph/{graph_perc}\"):\n",
    "        continue\n",
    "    graph = torch.load(f'{root}/{graph_perc}/train_graph.pt')\n",
    "    num_nodes = get_node_num(graph)\n",
    "    num_edges = get_edge_num(graph)\n",
    "    print(f\"Graph perc: {graph_perc}: num nodes: {num_nodes}, num edges: {num_edges}\")"
   ]
  },
  {
   "cell_type": "code",
   "execution_count": null,
   "metadata": {},
   "outputs": [],
   "source": []
  }
 ],
 "metadata": {
  "kernelspec": {
   "display_name": ".venv",
   "language": "python",
   "name": "python3"
  },
  "language_info": {
   "codemirror_mode": {
    "name": "ipython",
    "version": 3
   },
   "file_extension": ".py",
   "mimetype": "text/x-python",
   "name": "python",
   "nbconvert_exporter": "python",
   "pygments_lexer": "ipython3",
   "version": "3.10.12"
  }
 },
 "nbformat": 4,
 "nbformat_minor": 2
}
